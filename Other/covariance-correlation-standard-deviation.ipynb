{
 "cells": [
  {
   "cell_type": "markdown",
   "id": "d9bcabc1",
   "metadata": {},
   "source": [
    "original question: https://discord.com/channels/268882317391429632/486844875632017408/1025771898279305356\n",
    "        "
   ]
  },
  {
   "cell_type": "code",
   "execution_count": null,
   "id": "d4f99043",
   "metadata": {
    "pycharm": {
     "is_executing": true
    }
   },
   "outputs": [],
   "source": [
    "#\n",
    "# generating a dataset of increasing heights and a weight that is a function of height\n",
    "# (the heights and weights belong to a population of lizards ) \n",
    "#\n",
    "\n",
    "from random import uniform\n",
    "P = []\n",
    "for i in range(41):\n",
    "    height = i+1\n",
    "    bmi = uniform(16,18)\n",
    "    weight = bmi * height\n",
    "    P.append([height,weight])\n",
    "\n",
    "# plotting the dataset\n",
    "\n",
    "import numpy as np\n",
    "import matplotlib.pyplot as plt\n",
    "x1 = np.array(X)\n",
    "y1 = np.array(Y)\n",
    "fig, ax = plt.subplots()\n",
    "ax.scatter(x1,y1)\n",
    "ax.set_ylabel('weight')\n",
    "ax.set_xlabel('height')\n",
    "\n",
    "plt.show()\n",
    "\n",
    "\n",
    "from IPython.display import HTML, display\n",
    "def display_table(data):\n",
    "    html = r'<table>'\n",
    "    for row in sorted(data,key=lambda x: x[0]) :\n",
    "        html += \"<tr>\"\n",
    "        for field in row:\n",
    "            html += \"<td><h4>%s</h4></td>\"%(field)\n",
    "        html += \"</tr>\"\n",
    "    html += \"</table>\"\n",
    "    display(HTML(html))\n",
    "    \n",
    "display(\"Sample values:\")\n",
    "sorted_P = sorted(P,key=lambda x: x[0])\n",
    "display_table(sorted_P[:5])\n"
   ]
  },
  {
   "cell_type": "code",
   "execution_count": 1,
   "id": "0464eff9",
   "metadata": {},
   "outputs": [
    {
     "ename": "NameError",
     "evalue": "name 'P' is not defined",
     "output_type": "error",
     "traceback": [
      "\u001B[0;31m---------------------------------------------------------------------------\u001B[0m",
      "\u001B[0;31mNameError\u001B[0m                                 Traceback (most recent call last)",
      "Cell \u001B[0;32mIn [1], line 5\u001B[0m\n\u001B[1;32m      2\u001B[0m \u001B[38;5;28;01mfrom\u001B[39;00m \u001B[38;5;21;01msympy\u001B[39;00m \u001B[38;5;28;01mimport\u001B[39;00m symbols, IndexedBase, Idx\n\u001B[1;32m      3\u001B[0m \u001B[38;5;28;01mfrom\u001B[39;00m \u001B[38;5;21;01mIPython\u001B[39;00m\u001B[38;5;21;01m.\u001B[39;00m\u001B[38;5;21;01mdisplay\u001B[39;00m \u001B[38;5;28;01mimport\u001B[39;00m Math,display\n\u001B[0;32m----> 5\u001B[0m X \u001B[38;5;241m=\u001B[39m \u001B[38;5;28mlist\u001B[39m(\u001B[38;5;28mmap\u001B[39m(\u001B[38;5;28;01mlambda\u001B[39;00m x:x[\u001B[38;5;241m0\u001B[39m],P))\n\u001B[1;32m      6\u001B[0m Y \u001B[38;5;241m=\u001B[39m \u001B[38;5;28mlist\u001B[39m(\u001B[38;5;28mmap\u001B[39m(\u001B[38;5;28;01mlambda\u001B[39;00m x:x[\u001B[38;5;241m1\u001B[39m],P))\n\u001B[1;32m      8\u001B[0m x \u001B[38;5;241m=\u001B[39m IndexedBase(\u001B[38;5;124m'\u001B[39m\u001B[38;5;124mx\u001B[39m\u001B[38;5;124m'\u001B[39m)\n",
      "\u001B[0;31mNameError\u001B[0m: name 'P' is not defined"
     ]
    }
   ],
   "source": [
    "from sympy import *\n",
    "from sympy import symbols, IndexedBase, Idx\n",
    "from IPython.display import Math,display\n",
    "    \n",
    "X = list(map(lambda x:x[0],P))\n",
    "Y = list(map(lambda x:x[1],P))\n",
    "\n",
    "x = IndexedBase('x')\n",
    "y = IndexedBase('y')\n",
    "i, j, mean_x,mean_y = symbols('i j \\\\overline{x} \\\\overline{y}', cls=Idx)\n",
    "n,m = symbols('n m')\n",
    "\n",
    "mean_x_ = sum(X)/len(X)\n",
    "mean_y_ = sum(Y)/len(Y)\n",
    "\n",
    "\n",
    "sigma = sqrt( (1/(n)) * Sum( (x[i] - mean_x )**2 ,(i,1,n)) )\n",
    "sigma_x = sigma\n",
    "sigma_y = sigma.subs({x:y,n: m,mean_x: mean_y})\n",
    "cov = (1/(n)) * Sum( (x[i]-mean_x)*(y[i]-mean_y), (i,1,n) )\n",
    "pearson = cov / (sigma_x * sigma_y)\n",
    "display(Math(\"cov_{X,Y} = \" + latex(cov)))\n",
    "display(Math(\"\\\\sigma_X = \" + latex(sigma)))\n",
    "display(Math(\"\\\\rho_{X,Y} = \" + latex(pearson)))\n",
    "\n",
    "# Note: this is not exactly efficient but we get to see the symbolic forms\n",
    "# of covariance,standard deviation and correlation\n",
    "\n",
    "pearson.subs({n: len(X),m: len(Y)}).doit() \\\n",
    ".subs([(x[i+1],X[i]) for i in range(len(X))]) \\\n",
    ".subs([(y[i+1],Y[i]) for i in range(len(Y))]) \\\n",
    ".subs(mean_x,mean_x_) \\\n",
    ".subs(mean_y,mean_y_).evalf()\n",
    "\n",
    "\n"
   ]
  },
  {
   "cell_type": "code",
   "execution_count": 275,
   "id": "2ad59a67",
   "metadata": {},
   "outputs": [
    {
     "name": "stdout",
     "output_type": "stream",
     "text": [
      "0.9975928524726944\n"
     ]
    }
   ],
   "source": [
    "## Doing the same but faster and with less code using NumPy\n",
    "import numpy as np\n",
    "X = list(map(lambda x:x[0],P))\n",
    "Y = list(map(lambda x:x[1],P))\n",
    "x1 = np.array(X)\n",
    "y1 = np.array(Y)\n",
    "\n",
    "pearson = np.cov(x1,y1,bias=True)[0,1] / (np.std(x1) * np.std(y1))\n",
    "print(pearson)\n",
    "\n"
   ]
  }
 ],
 "metadata": {
  "kernelspec": {
   "display_name": "Python 3 (ipykernel)",
   "language": "python",
   "name": "python3"
  },
  "language_info": {
   "codemirror_mode": {
    "name": "ipython",
    "version": 3
   },
   "file_extension": ".py",
   "mimetype": "text/x-python",
   "name": "python",
   "nbconvert_exporter": "python",
   "pygments_lexer": "ipython3",
   "version": "3.9.2"
  }
 },
 "nbformat": 4,
 "nbformat_minor": 5
}
